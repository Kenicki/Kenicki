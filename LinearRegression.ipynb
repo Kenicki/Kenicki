{
  "nbformat": 4,
  "nbformat_minor": 0,
  "metadata": {
    "colab": {
      "provenance": [],
      "authorship_tag": "ABX9TyO+WvN7374Vmrsigmab8TG0",
      "include_colab_link": true
    },
    "kernelspec": {
      "name": "python3",
      "display_name": "Python 3"
    },
    "language_info": {
      "name": "python"
    }
  },
  "cells": [
    {
      "cell_type": "markdown",
      "metadata": {
        "id": "view-in-github",
        "colab_type": "text"
      },
      "source": [
        "<a href=\"https://colab.research.google.com/github/Kenicki/Kenicki/blob/main/LinearRegression.ipynb\" target=\"_parent\"><img src=\"https://colab.research.google.com/assets/colab-badge.svg\" alt=\"Open In Colab\"/></a>"
      ]
    },
    {
      "cell_type": "code",
      "source": [
        "import pandas as pd\n",
        "import numpy as np\n",
        "import matplotlib.pyplot as plt\n",
        "import seaborn as sns\n",
        "from sklearn.linear_model import LinearRegression\n",
        "from sklearn.model_selection import train_test_split\n",
        "from sklearn.metrics import mean_squared_error, r2_score"
      ],
      "metadata": {
        "id": "3BNKJB8I8rsh"
      },
      "execution_count": 17,
      "outputs": []
    },
    {
      "cell_type": "code",
      "source": [
        "df= pd.read_csv('/content/houses.csv')\n",
        "df"
      ],
      "metadata": {
        "colab": {
          "base_uri": "https://localhost:8080/",
          "height": 206
        },
        "id": "iBjb-MX58riZ",
        "outputId": "3d496631-acb0-47ca-b0f1-bad379d4399a"
      },
      "execution_count": 25,
      "outputs": [
        {
          "output_type": "execute_result",
          "data": {
            "text/plain": [
              "   House ID  Size (sqft)  Bedrooms  Age(years)  Price\n",
              "0         1         2100         3          20   5000\n",
              "1         2         1600         2          10   3400\n",
              "2         3         2400         4           5   5800\n",
              "3         4         1400         3          30   2900\n",
              "4         5         3000         4          15   6500"
            ],
            "text/html": [
              "\n",
              "  <div id=\"df-89fda340-dafb-4288-9f9d-d4dba3972aa1\" class=\"colab-df-container\">\n",
              "    <div>\n",
              "<style scoped>\n",
              "    .dataframe tbody tr th:only-of-type {\n",
              "        vertical-align: middle;\n",
              "    }\n",
              "\n",
              "    .dataframe tbody tr th {\n",
              "        vertical-align: top;\n",
              "    }\n",
              "\n",
              "    .dataframe thead th {\n",
              "        text-align: right;\n",
              "    }\n",
              "</style>\n",
              "<table border=\"1\" class=\"dataframe\">\n",
              "  <thead>\n",
              "    <tr style=\"text-align: right;\">\n",
              "      <th></th>\n",
              "      <th>House ID</th>\n",
              "      <th>Size (sqft)</th>\n",
              "      <th>Bedrooms</th>\n",
              "      <th>Age(years)</th>\n",
              "      <th>Price</th>\n",
              "    </tr>\n",
              "  </thead>\n",
              "  <tbody>\n",
              "    <tr>\n",
              "      <th>0</th>\n",
              "      <td>1</td>\n",
              "      <td>2100</td>\n",
              "      <td>3</td>\n",
              "      <td>20</td>\n",
              "      <td>5000</td>\n",
              "    </tr>\n",
              "    <tr>\n",
              "      <th>1</th>\n",
              "      <td>2</td>\n",
              "      <td>1600</td>\n",
              "      <td>2</td>\n",
              "      <td>10</td>\n",
              "      <td>3400</td>\n",
              "    </tr>\n",
              "    <tr>\n",
              "      <th>2</th>\n",
              "      <td>3</td>\n",
              "      <td>2400</td>\n",
              "      <td>4</td>\n",
              "      <td>5</td>\n",
              "      <td>5800</td>\n",
              "    </tr>\n",
              "    <tr>\n",
              "      <th>3</th>\n",
              "      <td>4</td>\n",
              "      <td>1400</td>\n",
              "      <td>3</td>\n",
              "      <td>30</td>\n",
              "      <td>2900</td>\n",
              "    </tr>\n",
              "    <tr>\n",
              "      <th>4</th>\n",
              "      <td>5</td>\n",
              "      <td>3000</td>\n",
              "      <td>4</td>\n",
              "      <td>15</td>\n",
              "      <td>6500</td>\n",
              "    </tr>\n",
              "  </tbody>\n",
              "</table>\n",
              "</div>\n",
              "    <div class=\"colab-df-buttons\">\n",
              "\n",
              "  <div class=\"colab-df-container\">\n",
              "    <button class=\"colab-df-convert\" onclick=\"convertToInteractive('df-89fda340-dafb-4288-9f9d-d4dba3972aa1')\"\n",
              "            title=\"Convert this dataframe to an interactive table.\"\n",
              "            style=\"display:none;\">\n",
              "\n",
              "  <svg xmlns=\"http://www.w3.org/2000/svg\" height=\"24px\" viewBox=\"0 -960 960 960\">\n",
              "    <path d=\"M120-120v-720h720v720H120Zm60-500h600v-160H180v160Zm220 220h160v-160H400v160Zm0 220h160v-160H400v160ZM180-400h160v-160H180v160Zm440 0h160v-160H620v160ZM180-180h160v-160H180v160Zm440 0h160v-160H620v160Z\"/>\n",
              "  </svg>\n",
              "    </button>\n",
              "\n",
              "  <style>\n",
              "    .colab-df-container {\n",
              "      display:flex;\n",
              "      gap: 12px;\n",
              "    }\n",
              "\n",
              "    .colab-df-convert {\n",
              "      background-color: #E8F0FE;\n",
              "      border: none;\n",
              "      border-radius: 50%;\n",
              "      cursor: pointer;\n",
              "      display: none;\n",
              "      fill: #1967D2;\n",
              "      height: 32px;\n",
              "      padding: 0 0 0 0;\n",
              "      width: 32px;\n",
              "    }\n",
              "\n",
              "    .colab-df-convert:hover {\n",
              "      background-color: #E2EBFA;\n",
              "      box-shadow: 0px 1px 2px rgba(60, 64, 67, 0.3), 0px 1px 3px 1px rgba(60, 64, 67, 0.15);\n",
              "      fill: #174EA6;\n",
              "    }\n",
              "\n",
              "    .colab-df-buttons div {\n",
              "      margin-bottom: 4px;\n",
              "    }\n",
              "\n",
              "    [theme=dark] .colab-df-convert {\n",
              "      background-color: #3B4455;\n",
              "      fill: #D2E3FC;\n",
              "    }\n",
              "\n",
              "    [theme=dark] .colab-df-convert:hover {\n",
              "      background-color: #434B5C;\n",
              "      box-shadow: 0px 1px 3px 1px rgba(0, 0, 0, 0.15);\n",
              "      filter: drop-shadow(0px 1px 2px rgba(0, 0, 0, 0.3));\n",
              "      fill: #FFFFFF;\n",
              "    }\n",
              "  </style>\n",
              "\n",
              "    <script>\n",
              "      const buttonEl =\n",
              "        document.querySelector('#df-89fda340-dafb-4288-9f9d-d4dba3972aa1 button.colab-df-convert');\n",
              "      buttonEl.style.display =\n",
              "        google.colab.kernel.accessAllowed ? 'block' : 'none';\n",
              "\n",
              "      async function convertToInteractive(key) {\n",
              "        const element = document.querySelector('#df-89fda340-dafb-4288-9f9d-d4dba3972aa1');\n",
              "        const dataTable =\n",
              "          await google.colab.kernel.invokeFunction('convertToInteractive',\n",
              "                                                    [key], {});\n",
              "        if (!dataTable) return;\n",
              "\n",
              "        const docLinkHtml = 'Like what you see? Visit the ' +\n",
              "          '<a target=\"_blank\" href=https://colab.research.google.com/notebooks/data_table.ipynb>data table notebook</a>'\n",
              "          + ' to learn more about interactive tables.';\n",
              "        element.innerHTML = '';\n",
              "        dataTable['output_type'] = 'display_data';\n",
              "        await google.colab.output.renderOutput(dataTable, element);\n",
              "        const docLink = document.createElement('div');\n",
              "        docLink.innerHTML = docLinkHtml;\n",
              "        element.appendChild(docLink);\n",
              "      }\n",
              "    </script>\n",
              "  </div>\n",
              "\n",
              "\n",
              "    <div id=\"df-2e04575d-3c5f-4ed3-8ec8-d84ed07d3a0d\">\n",
              "      <button class=\"colab-df-quickchart\" onclick=\"quickchart('df-2e04575d-3c5f-4ed3-8ec8-d84ed07d3a0d')\"\n",
              "                title=\"Suggest charts\"\n",
              "                style=\"display:none;\">\n",
              "\n",
              "<svg xmlns=\"http://www.w3.org/2000/svg\" height=\"24px\"viewBox=\"0 0 24 24\"\n",
              "     width=\"24px\">\n",
              "    <g>\n",
              "        <path d=\"M19 3H5c-1.1 0-2 .9-2 2v14c0 1.1.9 2 2 2h14c1.1 0 2-.9 2-2V5c0-1.1-.9-2-2-2zM9 17H7v-7h2v7zm4 0h-2V7h2v10zm4 0h-2v-4h2v4z\"/>\n",
              "    </g>\n",
              "</svg>\n",
              "      </button>\n",
              "\n",
              "<style>\n",
              "  .colab-df-quickchart {\n",
              "      --bg-color: #E8F0FE;\n",
              "      --fill-color: #1967D2;\n",
              "      --hover-bg-color: #E2EBFA;\n",
              "      --hover-fill-color: #174EA6;\n",
              "      --disabled-fill-color: #AAA;\n",
              "      --disabled-bg-color: #DDD;\n",
              "  }\n",
              "\n",
              "  [theme=dark] .colab-df-quickchart {\n",
              "      --bg-color: #3B4455;\n",
              "      --fill-color: #D2E3FC;\n",
              "      --hover-bg-color: #434B5C;\n",
              "      --hover-fill-color: #FFFFFF;\n",
              "      --disabled-bg-color: #3B4455;\n",
              "      --disabled-fill-color: #666;\n",
              "  }\n",
              "\n",
              "  .colab-df-quickchart {\n",
              "    background-color: var(--bg-color);\n",
              "    border: none;\n",
              "    border-radius: 50%;\n",
              "    cursor: pointer;\n",
              "    display: none;\n",
              "    fill: var(--fill-color);\n",
              "    height: 32px;\n",
              "    padding: 0;\n",
              "    width: 32px;\n",
              "  }\n",
              "\n",
              "  .colab-df-quickchart:hover {\n",
              "    background-color: var(--hover-bg-color);\n",
              "    box-shadow: 0 1px 2px rgba(60, 64, 67, 0.3), 0 1px 3px 1px rgba(60, 64, 67, 0.15);\n",
              "    fill: var(--button-hover-fill-color);\n",
              "  }\n",
              "\n",
              "  .colab-df-quickchart-complete:disabled,\n",
              "  .colab-df-quickchart-complete:disabled:hover {\n",
              "    background-color: var(--disabled-bg-color);\n",
              "    fill: var(--disabled-fill-color);\n",
              "    box-shadow: none;\n",
              "  }\n",
              "\n",
              "  .colab-df-spinner {\n",
              "    border: 2px solid var(--fill-color);\n",
              "    border-color: transparent;\n",
              "    border-bottom-color: var(--fill-color);\n",
              "    animation:\n",
              "      spin 1s steps(1) infinite;\n",
              "  }\n",
              "\n",
              "  @keyframes spin {\n",
              "    0% {\n",
              "      border-color: transparent;\n",
              "      border-bottom-color: var(--fill-color);\n",
              "      border-left-color: var(--fill-color);\n",
              "    }\n",
              "    20% {\n",
              "      border-color: transparent;\n",
              "      border-left-color: var(--fill-color);\n",
              "      border-top-color: var(--fill-color);\n",
              "    }\n",
              "    30% {\n",
              "      border-color: transparent;\n",
              "      border-left-color: var(--fill-color);\n",
              "      border-top-color: var(--fill-color);\n",
              "      border-right-color: var(--fill-color);\n",
              "    }\n",
              "    40% {\n",
              "      border-color: transparent;\n",
              "      border-right-color: var(--fill-color);\n",
              "      border-top-color: var(--fill-color);\n",
              "    }\n",
              "    60% {\n",
              "      border-color: transparent;\n",
              "      border-right-color: var(--fill-color);\n",
              "    }\n",
              "    80% {\n",
              "      border-color: transparent;\n",
              "      border-right-color: var(--fill-color);\n",
              "      border-bottom-color: var(--fill-color);\n",
              "    }\n",
              "    90% {\n",
              "      border-color: transparent;\n",
              "      border-bottom-color: var(--fill-color);\n",
              "    }\n",
              "  }\n",
              "</style>\n",
              "\n",
              "      <script>\n",
              "        async function quickchart(key) {\n",
              "          const quickchartButtonEl =\n",
              "            document.querySelector('#' + key + ' button');\n",
              "          quickchartButtonEl.disabled = true;  // To prevent multiple clicks.\n",
              "          quickchartButtonEl.classList.add('colab-df-spinner');\n",
              "          try {\n",
              "            const charts = await google.colab.kernel.invokeFunction(\n",
              "                'suggestCharts', [key], {});\n",
              "          } catch (error) {\n",
              "            console.error('Error during call to suggestCharts:', error);\n",
              "          }\n",
              "          quickchartButtonEl.classList.remove('colab-df-spinner');\n",
              "          quickchartButtonEl.classList.add('colab-df-quickchart-complete');\n",
              "        }\n",
              "        (() => {\n",
              "          let quickchartButtonEl =\n",
              "            document.querySelector('#df-2e04575d-3c5f-4ed3-8ec8-d84ed07d3a0d button');\n",
              "          quickchartButtonEl.style.display =\n",
              "            google.colab.kernel.accessAllowed ? 'block' : 'none';\n",
              "        })();\n",
              "      </script>\n",
              "    </div>\n",
              "\n",
              "  <div id=\"id_c3386c84-504f-4630-8328-f377bd62bbf1\">\n",
              "    <style>\n",
              "      .colab-df-generate {\n",
              "        background-color: #E8F0FE;\n",
              "        border: none;\n",
              "        border-radius: 50%;\n",
              "        cursor: pointer;\n",
              "        display: none;\n",
              "        fill: #1967D2;\n",
              "        height: 32px;\n",
              "        padding: 0 0 0 0;\n",
              "        width: 32px;\n",
              "      }\n",
              "\n",
              "      .colab-df-generate:hover {\n",
              "        background-color: #E2EBFA;\n",
              "        box-shadow: 0px 1px 2px rgba(60, 64, 67, 0.3), 0px 1px 3px 1px rgba(60, 64, 67, 0.15);\n",
              "        fill: #174EA6;\n",
              "      }\n",
              "\n",
              "      [theme=dark] .colab-df-generate {\n",
              "        background-color: #3B4455;\n",
              "        fill: #D2E3FC;\n",
              "      }\n",
              "\n",
              "      [theme=dark] .colab-df-generate:hover {\n",
              "        background-color: #434B5C;\n",
              "        box-shadow: 0px 1px 3px 1px rgba(0, 0, 0, 0.15);\n",
              "        filter: drop-shadow(0px 1px 2px rgba(0, 0, 0, 0.3));\n",
              "        fill: #FFFFFF;\n",
              "      }\n",
              "    </style>\n",
              "    <button class=\"colab-df-generate\" onclick=\"generateWithVariable('df')\"\n",
              "            title=\"Generate code using this dataframe.\"\n",
              "            style=\"display:none;\">\n",
              "\n",
              "  <svg xmlns=\"http://www.w3.org/2000/svg\" height=\"24px\"viewBox=\"0 0 24 24\"\n",
              "       width=\"24px\">\n",
              "    <path d=\"M7,19H8.4L18.45,9,17,7.55,7,17.6ZM5,21V16.75L18.45,3.32a2,2,0,0,1,2.83,0l1.4,1.43a1.91,1.91,0,0,1,.58,1.4,1.91,1.91,0,0,1-.58,1.4L9.25,21ZM18.45,9,17,7.55Zm-12,3A5.31,5.31,0,0,0,4.9,8.1,5.31,5.31,0,0,0,1,6.5,5.31,5.31,0,0,0,4.9,4.9,5.31,5.31,0,0,0,6.5,1,5.31,5.31,0,0,0,8.1,4.9,5.31,5.31,0,0,0,12,6.5,5.46,5.46,0,0,0,6.5,12Z\"/>\n",
              "  </svg>\n",
              "    </button>\n",
              "    <script>\n",
              "      (() => {\n",
              "      const buttonEl =\n",
              "        document.querySelector('#id_c3386c84-504f-4630-8328-f377bd62bbf1 button.colab-df-generate');\n",
              "      buttonEl.style.display =\n",
              "        google.colab.kernel.accessAllowed ? 'block' : 'none';\n",
              "\n",
              "      buttonEl.onclick = () => {\n",
              "        google.colab.notebook.generateWithVariable('df');\n",
              "      }\n",
              "      })();\n",
              "    </script>\n",
              "  </div>\n",
              "\n",
              "    </div>\n",
              "  </div>\n"
            ],
            "application/vnd.google.colaboratory.intrinsic+json": {
              "type": "dataframe",
              "variable_name": "df",
              "summary": "{\n  \"name\": \"df\",\n  \"rows\": 5,\n  \"fields\": [\n    {\n      \"column\": \"House ID\",\n      \"properties\": {\n        \"dtype\": \"number\",\n        \"std\": 1,\n        \"min\": 1,\n        \"max\": 5,\n        \"num_unique_values\": 5,\n        \"samples\": [\n          2,\n          5,\n          3\n        ],\n        \"semantic_type\": \"\",\n        \"description\": \"\"\n      }\n    },\n    {\n      \"column\": \"Size (sqft)\",\n      \"properties\": {\n        \"dtype\": \"number\",\n        \"std\": 640,\n        \"min\": 1400,\n        \"max\": 3000,\n        \"num_unique_values\": 5,\n        \"samples\": [\n          1600,\n          3000,\n          2400\n        ],\n        \"semantic_type\": \"\",\n        \"description\": \"\"\n      }\n    },\n    {\n      \"column\": \"Bedrooms\",\n      \"properties\": {\n        \"dtype\": \"number\",\n        \"std\": 0,\n        \"min\": 2,\n        \"max\": 4,\n        \"num_unique_values\": 3,\n        \"samples\": [\n          3,\n          2,\n          4\n        ],\n        \"semantic_type\": \"\",\n        \"description\": \"\"\n      }\n    },\n    {\n      \"column\": \"Age(years)\",\n      \"properties\": {\n        \"dtype\": \"number\",\n        \"std\": 9,\n        \"min\": 5,\n        \"max\": 30,\n        \"num_unique_values\": 5,\n        \"samples\": [\n          10,\n          15,\n          5\n        ],\n        \"semantic_type\": \"\",\n        \"description\": \"\"\n      }\n    },\n    {\n      \"column\": \"Price\",\n      \"properties\": {\n        \"dtype\": \"number\",\n        \"std\": 1538,\n        \"min\": 2900,\n        \"max\": 6500,\n        \"num_unique_values\": 5,\n        \"samples\": [\n          3400,\n          6500,\n          5800\n        ],\n        \"semantic_type\": \"\",\n        \"description\": \"\"\n      }\n    }\n  ]\n}"
            }
          },
          "metadata": {},
          "execution_count": 25
        }
      ]
    },
    {
      "cell_type": "code",
      "source": [],
      "metadata": {
        "id": "0tiN-DnX_sE_"
      },
      "execution_count": null,
      "outputs": []
    },
    {
      "source": [
        "# @title House ID vs Size (sqft)\n",
        "\n",
        "from matplotlib import pyplot as plt\n",
        "df.plot(kind='scatter', x='House ID', y='Size (sqft)', s=32, alpha=.8)\n",
        "plt.gca().spines[['top', 'right',]].set_visible(False)"
      ],
      "cell_type": "code",
      "execution_count": 30,
      "outputs": [
        {
          "output_type": "display_data",
          "data": {
            "text/plain": [
              "<Figure size 640x480 with 1 Axes>"
            ],
            "image/png": "[encoded data removed]"
          },
          "metadata": {}
        }
      ],
      "metadata": {
        "colab": {
          "base_uri": "https://localhost:8080/",
          "height": 449
        },
        "id": "w_SgKOrL_p4A",
        "outputId": "47f85402-c39f-4ce1-82d5-d7f04e19cee2"
      }
    },
    {
      "cell_type": "code",
      "source": [],
      "metadata": {
        "id": "L9AOn3py9rMT"
      },
      "execution_count": null,
      "outputs": []
    },
    {
      "cell_type": "code",
      "source": [
        "# Assuming 'Price' is the target variable and other numerical columns are features\n",
        "# Select relevant features and target\n",
        "features = ['Size (sqft)', 'Bedrooms', 'Age(years)'] # Corrected feature names\n",
        "target = 'Price'\n",
        "\n",
        "X = df[features]\n",
        "y = df[target]\n",
        "\n",
        "# Split data into training and testing sets\n",
        "X_train, X_test, y_train, y_test = train_test_split(X, y, test_size=0.2, random_state=42)\n",
        "\n",
        "# Initialize and train the Linear Regression model\n",
        "model = LinearRegression()\n",
        "model.fit(X_train, y_train)\n",
        "\n",
        "# Make predictions on the test set\n",
        "y_pred = model.predict(X_test)\n",
        "\n",
        "# Evaluate the model\n",
        "mse = mean_squared_error(y_test, y_pred)\n",
        "r2 = r2_score(y_test, y_pred)\n",
        "\n",
        "print(f\"Mean Squared Error: {mse}\")\n",
        "print(f\"R-squared: {r2}\")\n",
        "\n",
        "# You can also print the coefficients and intercept\n",
        "print(f\"Coefficients: {model.coef_}\")\n",
        "print(f\"Intercept: {model.intercept_}\")\n",
        "\n",
        "# Example of making a prediction on new data (replace with your new data)\n",
        "# new_data = pd.DataFrame([[1500, 3, 2, 2]], columns=features)\n",
        "# predicted_price = model.predict(new_data)\n",
        "# print(f\"Predicted price for new data: {predicted_price[0]}\")"
      ],
      "metadata": {
        "colab": {
          "base_uri": "https://localhost:8080/"
        },
        "id": "lDypjIoY89NP",
        "outputId": "2f4cf8a2-f6ac-4c2e-ba79-2c29d070c572"
      },
      "execution_count": 15,
      "outputs": [
        {
          "output_type": "stream",
          "name": "stdout",
          "text": [
            "Mean Squared Error: 3422500.0000000033\n",
            "R-squared: nan\n",
            "Coefficients: [   2.15384615 -734.61538462  -59.23076923]\n",
            "Intercept: 3865.3846153846157\n"
          ]
        },
        {
          "output_type": "stream",
          "name": "stderr",
          "text": [
            "/usr/local/lib/python3.11/dist-packages/sklearn/metrics/_regression.py:1266: UndefinedMetricWarning: R^2 score is not well-defined with less than two samples.\n",
            "  warnings.warn(msg, UndefinedMetricWarning)\n"
          ]
        }
      ]
    },
    {
      "cell_type": "code",
      "source": [
        "# Example of making a prediction on new data (replace with your new data)\n",
        "new_data = pd.DataFrame([[1500, 3, 2]], columns=features) # Example with 3 features\n",
        "predicted_price = model.predict(new_data)\n",
        "print(f\"Predicted price for new data: {predicted_price[0]}\")"
      ],
      "metadata": {
        "colab": {
          "base_uri": "https://localhost:8080/"
        },
        "id": "VlEkRcqr9WJd",
        "outputId": "a7d186a1-dedb-45c4-da5d-5a9ed798bd6a"
      },
      "execution_count": 23,
      "outputs": [
        {
          "output_type": "stream",
          "name": "stdout",
          "text": [
            "Predicted price for new data: 4773.846153846154\n"
          ]
        }
      ]
    },
    {
      "cell_type": "code",
      "source": [
        "# The coefficients from the trained model represent the change in the target variable (Price)\n",
        "# for a one-unit increase in the corresponding feature, holding other features constant.\n",
        "# A larger absolute value of the coefficient indicates a stronger influence on the price.\n",
        "\n",
        "print(\"\\nAnalyzing Feature Influence based on Coefficients:\")\n",
        "\n",
        "# Get the absolute values of the coefficients for comparison\n",
        "abs_coefficients = np.abs(model.coef_)\n",
        "\n",
        "# Pair features with their absolute coefficients\n",
        "feature_influence = dict(zip(features, abs_coefficients))\n",
        "\n",
        "# Find the feature with the highest absolute coefficient\n",
        "most_influential_feature = max(feature_influence, key=feature_influence.get)\n",
        "max_influence_value = feature_influence[most_influential_feature]\n",
        "\n",
        "print(f\"Feature Coefficients: {feature_influence}\")\n",
        "print(f\"\\nThe feature expected to have the most influence on 'Price' is: '{most_influential_feature}'\")\n",
        "print(f\"This is because it has the largest absolute coefficient ({max_influence_value:.2f}) in the linear regression model.\")\n",
        "print(\"The coefficient indicates the estimated change in house price for a one-unit increase in this feature, holding other features constant.\")\n"
      ],
      "metadata": {
        "colab": {
          "base_uri": "https://localhost:8080/"
        },
        "id": "pCNNUhcu89B3",
        "outputId": "d6f8b71a-0f14-4b03-f75c-8ba3dc0e4dd4"
      },
      "execution_count": 24,
      "outputs": [
        {
          "output_type": "stream",
          "name": "stdout",
          "text": [
            "\n",
            "Analyzing Feature Influence based on Coefficients:\n",
            "Feature Coefficients: {'Size (sqft)': np.float64(2.1538461538461555), 'Bedrooms': np.float64(734.6153846153856), 'Age(years)': np.float64(59.23076923076928)}\n",
            "\n",
            "The feature expected to have the most influence on 'Price' is: 'Bedrooms'\n",
            "This is because it has the largest absolute coefficient (734.62) in the linear regression model.\n",
            "The coefficient indicates the estimated change in house price for a one-unit increase in this feature, holding other features constant.\n"
          ]
        }
      ]
    },
    {
      "cell_type": "code",
      "source": [
        "# To interpret the coefficient for \"Age\", we need to look at the `model.coef_` output.\n",
        "# The coefficients are in the same order as the features defined in the `features` list:\n",
        "# ['Size (sqft)', 'Bedrooms', 'Age(years)']\n",
        "\n",
        "# Assuming the output for `model.coef_` is something like `[  X.XXe+02,   Y.YYe+01,  -Z.ZZe+00]`\n",
        "# The coefficient for 'Age(years)' would be the third value, -Z.ZZe+00 (which is -Z.ZZ).\n",
        "\n",
        "# Interpretation:\n",
        "# The coefficient for \"Age(years)\" represents the estimated change in the house price\n",
        "# for a one-year increase in the age of the house, holding 'Size (sqft)' and 'Bedrooms' constant.\n",
        "\n",
        "# If the coefficient for \"Age(years)\" is, for example, -100:\n",
        "# This means that for every one-year increase in the age of the house, the estimated price\n",
        "# of the house decreases by $100, assuming the size and number of bedrooms remain the same.\n",
        "\n",
        "# A negative coefficient for \"Age(years)\" is expected in a real estate context, as older houses\n",
        "# often tend to have lower values compared to newer ones, everything else being equal.\n",
        "\n",
        "# Let's print the coefficient for 'Age(years)' explicitly\n",
        "age_coefficient = model.coef_[features.index('Age(years)')]\n",
        "print(f\"\\nInterpretation of the coefficient for 'Age(years)':\")\n",
        "print(f\"The coefficient for 'Age(years)' is: {age_coefficient:.2f}\")\n",
        "\n",
        "if age_coefficient < 0:\n",
        "  print(f\"This indicates that for each additional year of age, the estimated house price decreases by approximately ${abs(age_coefficient):.2f}, assuming 'Size (sqft)' and 'Bedrooms' are held constant.\")\n",
        "elif age_coefficient > 0:\n",
        "   print(f\"This indicates that for each additional year of age, the estimated house price increases by approximately ${age_coefficient:.2f}, assuming 'Size (sqft)' and 'Bedrooms' are held constant.\")\n",
        "else:\n",
        "  print(\"The coefficient for 'Age(years)' is zero, suggesting that age has no linear impact on price in this model, holding other features constant.\")\n",
        "\n"
      ],
      "metadata": {
        "colab": {
          "base_uri": "https://localhost:8080/"
        },
        "id": "g2fmtpvH-0hP",
        "outputId": "3b8d07fc-5920-4739-caf9-9281e593ba63"
      },
      "execution_count": 28,
      "outputs": [
        {
          "output_type": "stream",
          "name": "stdout",
          "text": [
            "\n",
            "Interpretation of the coefficient for 'Age(years)':\n",
            "The coefficient for 'Age(years)' is: -59.23\n",
            "This indicates that for each additional year of age, the estimated house price decreases by approximately $59.23, assuming 'Size (sqft)' and 'Bedrooms' are held constant.\n"
          ]
        }
      ]
    },
    {
      "cell_type": "code",
      "source": [
        "# prompt: which multiple linear regression equation do you get from above data in form of y= mx+ .....\n",
        "\n",
        "# Based on the coefficients and intercept from the model, we can write the equation.\n",
        "# The general form of the multiple linear regression equation is:\n",
        "# y = b0 + b1*x1 + b2*x2 + ... + bn*xn\n",
        "# where:\n",
        "# y is the target variable (Price)\n",
        "# b0 is the intercept\n",
        "# b1, b2, ..., bn are the coefficients for features x1, x2, ..., xn\n",
        "\n",
        "# In our case, the features are 'Size (sqft)', 'Bedrooms', and 'Age(years)'.\n",
        "# So the equation is:\n",
        "# Price = Intercept + Coefficient_Size * Size(sqft) + Coefficient_Bedrooms * Bedrooms + Coefficient_Age * Age(years)\n",
        "\n",
        "print(\"\\nMultiple Linear Regression Equation:\")\n",
        "print(f\"Price = {model.intercept_:.2f} + ({model.coef_[0]:.2f} * Size (sqft)) + ({model.coef_[1]:.2f} * Bedrooms) + ({model.coef_[2]:.2f} * Age(years))\")"
      ],
      "metadata": {
        "colab": {
          "base_uri": "https://localhost:8080/"
        },
        "id": "_n4hXPlx_0-q",
        "outputId": "910ebac6-1118-4b83-81f9-b9cd3aaf9872"
      },
      "execution_count": 29,
      "outputs": [
        {
          "output_type": "stream",
          "name": "stdout",
          "text": [
            "\n",
            "Multiple Linear Regression Equation:\n",
            "Price = 3865.38 + (2.15 * Size (sqft)) + (-734.62 * Bedrooms) + (-59.23 * Age(years))\n"
          ]
        }
      ]
    }
  ]
}